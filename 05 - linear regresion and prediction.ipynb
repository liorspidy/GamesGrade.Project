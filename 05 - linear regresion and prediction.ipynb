{
 "cells": [
  {
   "cell_type": "code",
   "execution_count": null,
   "metadata": {},
   "outputs": [],
   "source": [
    "final_df = df_copy.copy(deep=True)\n",
    "final_df = final_df.drop(columns=['GameTitles','Publisher','Developer','Franchise'])\n",
    "le=LabelEncoder()\n",
    "final_df['Genre'] = le.fit_transform(final_df['Genre'])\n",
    "#----------------------------------\n",
    "#normalizinig the new df:\n",
    "normalized_df=(final_df-final_df.mean())/final_df.std()\n",
    "\n",
    "#fixing the final score:\n",
    "#final_df['metaUsersScore_Metascore_ratio']=final_df['numOfLabels']/final_df['SteamUserReviews']\n",
    "\n",
    "#creating the prediction:\n",
    "x_df = final_df.drop(columns=['metaUsersScore'])\n",
    "y_df = final_df['metaUsersScore']\n",
    "\n",
    "l = LinearRegression()\n",
    "x_train , x_test , y_train , y_test = train_test_split(x_df,y_df, test_size=0.2 , random_state = 8435)\n",
    "l.fit(x_train,y_train)\n",
    "pred = l.predict(x_test)\n",
    "\n",
    "print('Coefficients:',l.coef_)\n",
    "print('Intercept:',l.intercept_)\n",
    "print('Mean squered error (MSE): %.2f' % mean_squared_error(y_test , pred))\n",
    "print('Coefficient of determination (R^2): %.2f' % r2_score(y_test, pred),'/ 1.0')\n",
    "print('True Score:',l.score(x_test,y_test))\n",
    "#final plot:\n",
    "sns.scatterplot(y_test,pred,alpha=0.6)\n",
    "\n",
    "l.score(x_test,y_test)"
   ]
  },
  {
   "cell_type": "code",
   "execution_count": null,
   "metadata": {},
   "outputs": [],
   "source": [
    
   ]
  }
 ],
 "metadata": {
  "language_info": {
   "name": "python"
  },
  "orig_nbformat": 4
 },
 "nbformat": 4,
 "nbformat_minor": 2
}
